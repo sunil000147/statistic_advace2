{
 "cells": [
  {
   "cell_type": "code",
   "execution_count": 1,
   "id": "7d2cade9-80ca-4b75-a0b7-82742476ba20",
   "metadata": {},
   "outputs": [],
   "source": [
    "\"\"\"Q1. Write a Python function that takes in two arrays of data and calculates the F-value for a variance ratio\n",
    "test. The function should return the F-value and the corresponding p-value for the test.\"\"\"\n",
    "import numpy as np\n",
    "from scipy.stats import f\n",
    "\n",
    "def variance_ratio_test(data1, data2):\n",
    "    n1 = len(data1)\n",
    "    n2 = len(data2)\n",
    "    \n",
    "    # Calculate the variances of the two data sets\n",
    "    var1 = np.var(data1, ddof=1)\n",
    "    var2 = np.var(data2, ddof=1)\n",
    "    \n",
    "    # Calculate the F-value\n",
    "    f_value = var1 / var2\n",
    "    \n",
    "    # Calculate the degrees of freedom\n",
    "    df1 = n1 - 1\n",
    "    df2 = n2 - 1\n",
    "    \n",
    "    # Calculate the p-value\n",
    "    p_value = 1 - f.cdf(f_value, df1, df2)\n",
    "    \n",
    "    return f_value, p_value\n"
   ]
  },
  {
   "cell_type": "code",
   "execution_count": 2,
   "id": "c0ea759a-9ea8-4eb2-976f-fcc043b5e972",
   "metadata": {},
   "outputs": [],
   "source": [
    "\"\"\"Q2. Given a significance level of 0.05 and the degrees of freedom for the numerator and denominator of an\n",
    "F-distribution, write a Python function that returns the critical F-value for a two-tailed test.\"\"\"\n",
    "from scipy.stats import f\n",
    "\n",
    "def critical_f_value(significance_level, df1, df2):\n",
    "    alpha = significance_level / 2  # Divide significance level by 2 for two-tailed test\n",
    "    crit_f_value = f.ppf(1 - alpha, df1, df2)\n",
    "    return crit_f_value\n"
   ]
  },
  {
   "cell_type": "code",
   "execution_count": 3,
   "id": "de3a1eb6-8b88-4589-bf82-04cf42925961",
   "metadata": {},
   "outputs": [
    {
     "name": "stdout",
     "output_type": "stream",
     "text": [
      "F-value: 0.3330537750850105\n",
      "Degrees of Freedom: (99, 99)\n",
      "p-value: 9.959518613719062e-08\n"
     ]
    }
   ],
   "source": [
    "\"\"\" Q3. Write a Python program that generates random samples from two normal distributions with known\n",
    "\n",
    "variances and uses an F-test to determine if the variances are equal. The program should output the F-\n",
    "value, degrees of freedom, and p-value for the test. \"\"\"\n",
    "import numpy as np\n",
    "from scipy.stats import f\n",
    "\n",
    "def perform_variance_test(sample1, sample2):\n",
    "    n1 = len(sample1)\n",
    "    n2 = len(sample2)\n",
    "    \n",
    "    var1 = np.var(sample1, ddof=1)\n",
    "    var2 = np.var(sample2, ddof=1)\n",
    "    \n",
    "    f_value = var1 / var2\n",
    "    \n",
    "    df1 = n1 - 1\n",
    "    df2 = n2 - 1\n",
    "    \n",
    "    p_value = 2 * min(f.cdf(f_value, df1, df2), 1 - f.cdf(f_value, df1, df2))\n",
    "    \n",
    "    return f_value, (df1, df2), p_value\n",
    "\n",
    "# Generate random samples from two normal distributions\n",
    "variance1 = 5\n",
    "variance2 = 8\n",
    "sample_size = 100\n",
    "\n",
    "sample1 = np.random.normal(0, np.sqrt(variance1), sample_size)\n",
    "sample2 = np.random.normal(0, np.sqrt(variance2), sample_size)\n",
    "\n",
    "# Perform the variance test\n",
    "f_value, degrees_of_freedom, p_value = perform_variance_test(sample1, sample2)\n",
    "\n",
    "# Output the results\n",
    "print(\"F-value:\", f_value)\n",
    "print(\"Degrees of Freedom:\", degrees_of_freedom)\n",
    "print(\"p-value:\", p_value)\n"
   ]
  },
  {
   "cell_type": "code",
   "execution_count": 6,
   "id": "e406d886-f538-4d42-9285-75c6d112404d",
   "metadata": {},
   "outputs": [
    {
     "name": "stdout",
     "output_type": "stream",
     "text": [
      "Fail to reject the null hypothesis. Variances are not significantly different.\n"
     ]
    }
   ],
   "source": [
    "\"\"\" Q4.The variances of two populations are known to be 10 and 15. A sample of 12 observations is taken from\n",
    "each population. Conduct an F-test at the 5% significance level to determine if the variances are\n",
    "significantly different.\n",
    "\n",
    "\n",
    "To conduct an F-test to determine if the variances of two populations are significantly different at the 5% significance level, we can follow these steps:\n",
    "\n",
    "Define the null hypothesis (H0) and the alternative hypothesis (Ha):\n",
    "\n",
    "Null hypothesis (H0): The variances of the two populations are equal.\n",
    "Alternative hypothesis (Ha): The variances of the two populations are significantly different.\n",
    "Determine the significance level (α): In this case, it is given as 0.05 (5%).\n",
    "\n",
    "Calculate the F-value: The F-value is calculated by dividing the larger variance by the smaller variance. In this case, the larger variance is 15 and the smaller variance is 10. Thus, the F-value is 15 / 10 = 1.5.\n",
    "\n",
    "Determine the degrees of freedom: For the numerator degrees of freedom, use the sample size minus 1: df1 = 12 - 1 = 11. For the denominator degrees of freedom, use the sample size minus 1: df2 = 12 - 1 = 11.\n",
    "\n",
    "Calculate the p-value: Using the F-distribution with the degrees of freedom (df1 = 11, df2 = 11) and the F-value (1.5), we can calculate the p-value. The p-value is the probability of obtaining an F-value as extreme as the observed value under the null hypothesis.\n",
    "\n",
    "Compare the p-value to the significance level: If the p-value is less than the significance level (α), we reject the null hypothesis and conclude that the variances are significantly different. Otherwise, we fail to reject the null hypothesis\"\"\"\n",
    "\n",
    "from scipy.stats import f\n",
    "\n",
    "def perform_f_test(variance1, variance2, sample_size):\n",
    "    f_value = variance2 / variance1\n",
    "    df1 = sample_size - 1\n",
    "    df2 = sample_size - 1\n",
    "    p_value = 2 * min(f.cdf(f_value, df1, df2), 1 - f.cdf(f_value, df1, df2))\n",
    "    return p_value\n",
    "\n",
    "variance1 = 10\n",
    "variance2 = 15\n",
    "sample_size = 12\n",
    "significance_level = 0.05\n",
    "\n",
    "p_value = perform_f_test(variance1, variance2, sample_size)\n",
    "\n",
    "if p_value < significance_level:\n",
    "    print(\"Reject the null hypothesis. Variances are significantly different.\")\n",
    "else:\n",
    "    print(\"Fail to reject the null hypothesis. Variances are not significantly different.\")\n"
   ]
  },
  {
   "cell_type": "code",
   "execution_count": 10,
   "id": "7ce46778-1d09-4ee8-877a-65597642e0f5",
   "metadata": {},
   "outputs": [
    {
     "name": "stdout",
     "output_type": "stream",
     "text": [
      "Fail to reject the null hypothesis. The claim about the variance is justified.\n"
     ]
    }
   ],
   "source": [
    "\"\"\" Q5. A manufacturer claims that the variance of the diameter of a certain product is 0.005. A sample of 25\n",
    "products is taken, and the sample variance is found to be 0.006. Conduct an F-test at the 1% significance\n",
    "level to determine if the claim is justified.\n",
    "\n",
    "\n",
    "To conduct an F-test at the 1% significance level and determine if the manufacturer's claim about the variance of the product diameter is justified, we can follow these steps:\n",
    "\n",
    "Define the null hypothesis (H0) and the alternative hypothesis (Ha):\n",
    "\n",
    "Null hypothesis (H0): The variance of the product diameter is equal to 0.005.\n",
    "Alternative hypothesis (Ha): The variance of the product diameter is not equal to 0.005.\n",
    "Determine the significance level (α): In this case, it is given as 0.01 (1%).\n",
    "\n",
    "Calculate the F-value: The F-value is calculated by dividing the larger variance by the smaller variance. In this case, the larger variance is the sample variance, which is 0.006, and the smaller variance is the claimed variance, which is 0.005. Thus, the F-value is 0.006 / 0.005 = 1.2.\n",
    "\n",
    "Determine the degrees of freedom: For the numerator degrees of freedom, use the sample size minus 1: df1 = 25 - 1 = 24. For the denominator degrees of freedom, use the sample size minus 1: df2 = 25 - 1 = 24.\n",
    "\n",
    "Calculate the p-value: Using the F-distribution with the degrees of freedom (df1 = 24, df2 = 24) and the F-value (1.2), we can calculate the p-value. The p-value is the probability of obtaining an F-value as extreme as the observed value under the null hypothesis.\n",
    "\n",
    "Compare the p-value to the significance level: If the p-value is less than the significance level (α), we reject the null hypothesis and conclude that the claim about the variance is not justified. Otherwise, if the p-value is greater than or equal to the significance level, we fail to reject the null hypothesis and cannot conclude that the claim is unjustified.\"\"\"\n",
    "\n",
    "# Let's calculate the p-value and perform the F-test using the provided values:\n",
    "from scipy.stats import f\n",
    "\n",
    "def perform_f_test(variance_claimed, variance_sample, sample_size):\n",
    "    f_value = variance_sample / variance_claimed\n",
    "    df1 = sample_size - 1\n",
    "    df2 = sample_size - 1\n",
    "    p_value = 2 * min(f.cdf(f_value, df1, df2), 1 - f.cdf(f_value, df1, df2))\n",
    "    return p_value\n",
    "\n",
    "variance_claimed = 0.005\n",
    "variance_sample = 0.006\n",
    "sample_size = 25\n",
    "significance_level = 0.01\n",
    "\n",
    "p_value = perform_f_test(variance_claimed, variance_sample, sample_size)\n",
    "\n",
    "if p_value < significance_level:\n",
    "    print(\"Reject the null hypothesis. The claim about the variance is not justified.\")\n",
    "else:\n",
    "    print(\"Fail to reject the null hypothesis. The claim about the variance is justified.\")\n"
   ]
  },
  {
   "cell_type": "code",
   "execution_count": 8,
   "id": "eca6031c-5ba9-40bf-bff3-1f28e6447c88",
   "metadata": {},
   "outputs": [],
   "source": [
    "\"\"\"Q6. Write a Python function that takes in the degrees of freedom for the numerator and denominator of an\n",
    "F-distribution and calculates the mean and variance of the distribution. The function should return the\n",
    "mean and variance as a tuple.\"\"\"\n",
    "def calculate_f_distribution_mean_and_variance(df1, df2):\n",
    "    mean = df2 / (df2 - 2)\n",
    "    variance = (2 * (df2 ** 2) * (df1 + df2 - 2)) / (df1 * (df2 - 2) ** 2 * (df2 - 4))\n",
    "    return mean, variance\n"
   ]
  },
  {
   "cell_type": "markdown",
   "id": "7a11cec7-0f00-40c8-9579-b02fb47a2af9",
   "metadata": {},
   "source": [
    "Q7. A random sample of 10 measurements is taken from a normal population with unknown variance. The\n",
    "sample variance is found to be 25. Another random sample of 15 measurements is taken from another\n",
    "normal population with unknown variance, and the sample variance is found to be 20. Conduct an F-test\n",
    "at the 10% significance level to determine if the variances are significantly different.\n",
    "To conduct an F-test at the 10% significance level and determine if the variances of two populations are significantly different, we can follow these steps:\n",
    "\n",
    "Define the null hypothesis (H0) and the alternative hypothesis (Ha):\n",
    "\n",
    "Null hypothesis (H0): The variances of the two populations are equal.\n",
    "Alternative hypothesis (Ha): The variances of the two populations are significantly different.\n",
    "Determine the significance level (α): In this case, it is given as 0.10 (10%).\n",
    "\n",
    "Calculate the F-value: The F-value is calculated by dividing the larger sample variance by the smaller sample variance. In this case, the larger sample variance is 25, and the smaller sample variance is 20. Thus, the F-value is 25 / 20 = 1.25.\n",
    "\n",
    "Determine the degrees of freedom: For the numerator degrees of freedom, use the sample size minus 1 for the sample with the larger variance: df1 = 10 - 1 = 9. For the denominator degrees of freedom, use the sample size minus 1 for the sample with the smaller variance: df2 = 15 - 1 = 14.\n",
    "\n",
    "Calculate the p-value: Using the F-distribution with the degrees of freedom (df1 = 9, df2 = 14) and the F-value (1.25), we can calculate the p-value. The p-value is the probability of obtaining an F-value as extreme as the observed value under the null hypothesis.\n",
    "\n",
    "Compare the p-value to the significance level: If the p-value is less than the significance level (α), we reject the null hypothesis and conclude that the variances are significantly different. Otherwise, if the p-value is greater than or equal to the significance level, we fail to reject the null hypothesis and cannot conclude that the variances are significantly different."
   ]
  },
  {
   "cell_type": "code",
   "execution_count": 9,
   "id": "9d29f41f-df8b-438a-bc7b-26555b061fe1",
   "metadata": {},
   "outputs": [
    {
     "name": "stdout",
     "output_type": "stream",
     "text": [
      "Fail to reject the null hypothesis. Variances are not significantly different.\n"
     ]
    }
   ],
   "source": [
    "#Let's calculate the p-value and perform the F-test using the provided values:\n",
    "from scipy.stats import f\n",
    "\n",
    "def perform_f_test(variance1, variance2, sample_size1, sample_size2):\n",
    "    f_value = variance1 / variance2\n",
    "    df1 = sample_size1 - 1\n",
    "    df2 = sample_size2 - 1\n",
    "    p_value = 2 * min(f.cdf(f_value, df1, df2), 1 - f.cdf(f_value, df1, df2))\n",
    "    return p_value\n",
    "\n",
    "variance1 = 25\n",
    "variance2 = 20\n",
    "sample_size1 = 10\n",
    "sample_size2 = 15\n",
    "significance_level = 0.10\n",
    "\n",
    "p_value = perform_f_test(variance1, variance2, sample_size1, sample_size2)\n",
    "\n",
    "if p_value < significance_level:\n",
    "    print(\"Reject the null hypothesis. Variances are significantly different.\")\n",
    "else:\n",
    "    print(\"Fail to reject the null hypothesis. Variances are not significantly different.\")\n"
   ]
  },
  {
   "cell_type": "markdown",
   "id": "21a94252-7710-4dcc-871a-7648f740f3c7",
   "metadata": {},
   "source": [
    "Q8. The following data represent the waiting times in minutes at two different restaurants on a Saturday\n",
    "night: Restaurant A: 24, 25, 28, 23, 22, 20, 27; Restaurant B: 31, 33, 35, 30, 32, 36. Conduct an F-test at the 5%\n",
    "significance level to determine if the variances are significantly different.\n",
    "\n",
    "\n",
    "To conduct an F-test at the 5% significance level and determine if the variances of two samples are significantly different, we can follow these steps:\n",
    "\n",
    "Define the null hypothesis (H0) and the alternative hypothesis (Ha):\n",
    "\n",
    "Null hypothesis (H0): The variances of the two samples are equal.\n",
    "Alternative hypothesis (Ha): The variances of the two samples are significantly different.\n",
    "Determine the significance level (α): In this case, it is given as 0.05 (5%).\n",
    "\n",
    "Calculate the sample variances: Calculate the sample variance for each restaurant's waiting times using the formula:\n",
    "\n",
    "Sample variance (s^2) = sum((x - mean)^2) / (n - 1)\n",
    "Calculate the F-value: The F-value is calculated by dividing the larger sample variance by the smaller sample variance. In this case, we'll refer to the sample from Restaurant A as sample 1 and the sample from Restaurant B as sample 2. Determine the larger sample variance and the smaller sample variance.\n",
    "\n",
    "Determine the degrees of freedom: For the numerator degrees of freedom, use the sample size minus 1 for sample 1. For the denominator degrees of freedom, use the sample size minus 1 for sample 2.\n",
    "\n",
    "Calculate the p-value: Using the F-distribution with the degrees of freedom and the F-value, calculate the p-value. The p-value is the probability of obtaining an F-value as extreme as the observed value under the null hypothesis.\n",
    "\n",
    "Compare the p-value to the significance level: If the p-value is less than the significance level (α), we reject the null hypothesis and conclude that the variances are significantly different. Otherwise, if the p-value is greater than or equal to the significance level, we fail to reject the null hypothesis and cannot conclude that the variances are significantly different."
   ]
  },
  {
   "cell_type": "code",
   "execution_count": null,
   "id": "8fa5b000-de8c-42a0-87e9-28a361b449f7",
   "metadata": {},
   "outputs": [],
   "source": []
  }
 ],
 "metadata": {
  "kernelspec": {
   "display_name": "Python 3 (ipykernel)",
   "language": "python",
   "name": "python3"
  },
  "language_info": {
   "codemirror_mode": {
    "name": "ipython",
    "version": 3
   },
   "file_extension": ".py",
   "mimetype": "text/x-python",
   "name": "python",
   "nbconvert_exporter": "python",
   "pygments_lexer": "ipython3",
   "version": "3.10.8"
  }
 },
 "nbformat": 4,
 "nbformat_minor": 5
}
